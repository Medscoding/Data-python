{
 "cells": [
  {
   "cell_type": "markdown",
   "metadata": {},
   "source": [
    "Task1\n",
    "Create a 1D array of numbers from 0 to 9"
   ]
  },
  {
   "cell_type": "code",
   "execution_count": 1,
   "metadata": {},
   "outputs": [
    {
     "name": "stdout",
     "output_type": "stream",
     "text": [
      "[0 1 2 3 4 5 6 7 8 9]\n"
     ]
    }
   ],
   "source": [
    "import numpy as np\n",
    "arr1=[0, 1, 2, 3, 4, 5, 6, 7, 8, 9]\n",
    "narr1=np.array(arr1)\n",
    "print(narr1)"
   ]
  },
  {
   "cell_type": "markdown",
   "metadata": {},
   "source": [
    "Task2\n",
    "Create a 3×3 NumPy array of all Boolean value Trues"
   ]
  },
  {
   "cell_type": "code",
   "execution_count": null,
   "metadata": {},
   "outputs": [],
   "source": [
    "import numpy as np\n",
    "np.full((3, 3), True, dtype=bool)\n",
    "#array([[ True,  True,  True],\n",
    "#        [ True,  True,  True],\n",
    "#        [ True,  True,  True]], dtype=bool)\n",
    "\n",
    "# Alternate method:\n",
    "np.ones((3,3), dtype=bool)\n",
    "\n",
    "\n",
    "#or do t as below\n",
    "# multi_arr = np.arange(9).reshape(3,3) #This will create a NumPy array of size 3x3 (3 rows and 3 columns) with values from 0 to 8 (value 9 not included).\n",
    "#print(multi_arr) #print the output of the array 3x3\n",
    "#rows_wanted = np.array( [True, True, True] ) #Here, we are saying that we want first row (True) and the 3rd row (True) values, and we don't want 2nd-row value (False).\n",
    "#multi_arr_portion = multi_arr[rows_wanted, : ]#Let us use this boolean NumPy array rows_wanted in the above multi-dimensional array (multi_arr), to extract the desired portion of this multi_arr array.\n",
    "#Here, we are saying - get all columns :, but get only row numbers 1 and 3 ('0' and '2' index rows)\n",
    "#print(multi_arr_portion) #will print output multi_arr_portion"
   ]
  },
  {
   "cell_type": "markdown",
   "metadata": {},
   "source": [
    "Task3\n",
    "Extract all odd numbers from array of 1-10"
   ]
  },
  {
   "cell_type": "code",
   "execution_count": null,
   "metadata": {},
   "outputs": [],
   "source": [
    "import numpy as np\n",
    "odd_num = np.array([1, 2, 3, 4, 5, 6, 7, 8, 9])\n",
    "odd_num[odd_num % 2 == 1]\n",
    "#do not use print function, because print function prints out all the numbes in the array."
   ]
  },
  {
   "cell_type": "markdown",
   "metadata": {},
   "source": [
    "Task4\n",
    "Replace all odd numbers in an array of 1-10 with the value -1\n"
   ]
  },
  {
   "cell_type": "code",
   "execution_count": null,
   "metadata": {},
   "outputs": [],
   "source": [
    "import numpy as np\n",
    "arr_num = np.array([1, 2, 3, 4, 5, 6, 7, 8, 9])\n",
    "arr_num[arr_num % 2 == 1] = -1\n",
    "#or do it like this as well \n",
    "#arr_num1 = (arr_num % 2 == 1)\n",
    "#arr_num[arr_num1] = -1\n",
    "print(arr_num)"
   ]
  },
  {
   "cell_type": "markdown",
   "metadata": {},
   "source": [
    "Task5\n",
    "Convert a 1D array to a 2D array with 2 rows"
   ]
  },
  {
   "cell_type": "code",
   "execution_count": null,
   "metadata": {},
   "outputs": [],
   "source": [
    "import numpy as np\n",
    "arr = np.array([0, 1, 2, 3, 4, 5, 6, 7, 8, 9])\n",
    "print('1D Numpy array:')\n",
    "print(arr)\n",
    "arr = np.array([0, 1, 2, 3, 4, 5, 6, 7, 8, 9])\n",
    "# Convert 1D array to a 2D numpy array of 2 rows \n",
    "arr_2d = np.reshape(arr, (2, 5))#you need to give (two arguments in these parantheses)\n",
    "print(arr_2d)\n",
    "\n",
    "\n",
    "\n"
   ]
  },
  {
   "cell_type": "markdown",
   "metadata": {},
   "source": [
    "Task6\n",
    "Create two arrays a and b, stack these two arrays vertically use the  np.dot and np.sum to calculate totals"
   ]
  },
  {
   "cell_type": "code",
   "execution_count": null,
   "metadata": {},
   "outputs": [],
   "source": [
    "import numpy as np\n",
    "a = np.array([0, 1, 2, 3, 4])\n",
    "b = np.array([ 5, 6, 7, 8, 9])\n",
    "print(a, b)\n",
    "vert = np.vstack((a, b))#stack the array vertically\n",
    "print(vert)\n",
    "dot = np.dot(a, b)#first value of \\mathbf{a} by the first value of \\mathbf{b}. We multiply the second value of \\mathbf{a} by the second value of \\mathbf{b}. And we multiply the third value of \\mathbf{a} by the third value of \\mathbf{b}. Then, we take the resulting values\n",
    "print(dot)\n",
    "sum = np.sum((dot))#and sum them up.\n",
    "print(sum)"
   ]
  }
 ],
 "metadata": {
  "interpreter": {
   "hash": "08df78cca0249cc6f2e7febd3cd489c2ee40c1cbfae9840126cdf94687776c41"
  },
  "kernelspec": {
   "display_name": "Python 3.9.0 64-bit",
   "name": "python3"
  },
  "language_info": {
   "codemirror_mode": {
    "name": "ipython",
    "version": 3
   },
   "file_extension": ".py",
   "mimetype": "text/x-python",
   "name": "python",
   "nbconvert_exporter": "python",
   "pygments_lexer": "ipython3",
   "version": "3.9.0"
  },
  "orig_nbformat": 4
 },
 "nbformat": 4,
 "nbformat_minor": 2
}
