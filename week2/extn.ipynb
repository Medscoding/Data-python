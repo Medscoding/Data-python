{
 "cells": [
  {
   "cell_type": "markdown",
   "metadata": {},
   "source": [
    "Task1\n",
    "Create the following pattern without hardcoding. Use only NumPy  #> array([1, 1, 1, 2, 2, 2, 3, 3, 3, 1, 2, 3, 1, 2, 3, 1, 2, 3])\n",
    "functions."
   ]
  },
  {
   "cell_type": "code",
   "execution_count": null,
   "metadata": {},
   "outputs": [],
   "source": [
    "import numpy as np\n",
    "num = np.array([1, 2, 3])  \n",
    "np.r_[np.repeat(num, 3), np.tile(num, 3)]\n",
    "#when we use np.repeat The elements of the input are  repeated individually, such that the first element is repeated three times and then the second element is repeated three times (i.e., [6, 6, 6, 7, 7, 7, 8, 8, 8]). That’s how the NumPy repeat would repeat the input.\n",
    "#for np.tile the element are not repeated individually,epeats the input as if it is copying the original input as a coherent unit, including the original order of the elements."
   ]
  },
  {
   "cell_type": "markdown",
   "metadata": {},
   "source": [
    "Task2\n",
    "In two arrays a ( 1,2,3,4,5) and b ( 4,5,6,7,8,9) –remove all repeating  items present in array b"
   ]
  },
  {
   "cell_type": "code",
   "execution_count": null,
   "metadata": {},
   "outputs": [],
   "source": [
    "import numpy as np\n",
    "a = np.array([1, 2, 3, 4, 5])\n",
    "print(\"A: \", a)\n",
    "b = [4, 5, 6, 7, 8, 9]\n",
    "print(\"B: \", b)\n",
    "print(\"Unique values in b that are not in a:\")\n",
    "print(np.setdiff1d(b, a))\n"
   ]
  },
  {
   "cell_type": "markdown",
   "metadata": {},
   "source": [
    "Task3\n",
    "Get all items between 3 and 7 from a and b and sum them together"
   ]
  },
  {
   "cell_type": "code",
   "execution_count": 1,
   "metadata": {},
   "outputs": [
    {
     "data": {
      "text/plain": [
       "54"
      ]
     },
     "execution_count": 1,
     "metadata": {},
     "output_type": "execute_result"
    }
   ],
   "source": [
    "import numpy as np\n",
    "a = np.array([1, 2, 3, 4, 5])\n",
    "b = np.array([4, 5, 6, 7, 8, 9])\n",
    "array = np.concatenate((a, b))#join a and b together\n",
    "(array)\n",
    "array[3 :7]\n",
    "(array)\n",
    "sum = np.sum(array)\n",
    "(sum)\n"
   ]
  }
 ],
 "metadata": {
  "interpreter": {
   "hash": "08df78cca0249cc6f2e7febd3cd489c2ee40c1cbfae9840126cdf94687776c41"
  },
  "kernelspec": {
   "display_name": "Python 3.9.0 64-bit",
   "name": "python3"
  },
  "language_info": {
   "codemirror_mode": {
    "name": "ipython",
    "version": 3
   },
   "file_extension": ".py",
   "mimetype": "text/x-python",
   "name": "python",
   "nbconvert_exporter": "python",
   "pygments_lexer": "ipython3",
   "version": "3.9.0"
  },
  "orig_nbformat": 4
 },
 "nbformat": 4,
 "nbformat_minor": 2
}
