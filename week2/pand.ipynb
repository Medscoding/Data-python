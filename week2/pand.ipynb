{
 "cells": [
  {
   "cell_type": "markdown",
   "metadata": {},
   "source": [
    "Task1\n",
    "How many rows and columns are there in your file?\n"
   ]
  },
  {
   "cell_type": "code",
   "execution_count": 40,
   "metadata": {},
   "outputs": [
    {
     "name": "stdout",
     "output_type": "stream",
     "text": [
      "14\n",
      "5\n"
     ]
    }
   ],
   "source": [
    "import pandas as pd\n",
    "\n",
    "# Create data\n",
    "data = pd.read_csv('C:/Users/mylaptop/Documents/Data-python/week2/15 holidaydestination.csv')\n",
    "#Display number of rows, columns, etc.\n",
    "#df.info()\n",
    "#Get the number of rows and columns: df.shape\n",
    "row, col = data.shape\n",
    "print(row)\n",
    "\n",
    "print(col)\n",
    "\n",
    "\n",
    "# Set index\n",
    "#df = df.set_index('Keyword')\n",
    "\n",
    "#for dest, group in df.groupby('destination'):\n",
    "   # group.to_csv(dest + '.csv')\n",
    "\n",
    "#continents = ['Asia','Europe','Africa','North America','South America','Oceania']"
   ]
  },
  {
   "cell_type": "markdown",
   "metadata": {},
   "source": [
    "Task2\n",
    "Print row 3-8 ( using iloc/loc).\n"
   ]
  },
  {
   "cell_type": "code",
   "execution_count": 68,
   "metadata": {},
   "outputs": [
    {
     "data": {
      "text/html": [
       "<div>\n",
       "<style scoped>\n",
       "    .dataframe tbody tr th:only-of-type {\n",
       "        vertical-align: middle;\n",
       "    }\n",
       "\n",
       "    .dataframe tbody tr th {\n",
       "        vertical-align: top;\n",
       "    }\n",
       "\n",
       "    .dataframe thead th {\n",
       "        text-align: right;\n",
       "    }\n",
       "</style>\n",
       "<table border=\"1\" class=\"dataframe\">\n",
       "  <thead>\n",
       "    <tr style=\"text-align: right;\">\n",
       "      <th></th>\n",
       "      <th>DESTINATION</th>\n",
       "      <th>FEEDBACK</th>\n",
       "      <th>AVERAGE HOTEL RATING</th>\n",
       "      <th>ALL INCLUSIVE HOTELS</th>\n",
       "      <th>MOST VISTITED CITY</th>\n",
       "    </tr>\n",
       "  </thead>\n",
       "  <tbody>\n",
       "    <tr>\n",
       "      <th>3</th>\n",
       "      <td>Japan</td>\n",
       "      <td>8</td>\n",
       "      <td>5</td>\n",
       "      <td>250</td>\n",
       "      <td>Tokyo</td>\n",
       "    </tr>\n",
       "    <tr>\n",
       "      <th>4</th>\n",
       "      <td>UAE</td>\n",
       "      <td>9</td>\n",
       "      <td>5</td>\n",
       "      <td>250</td>\n",
       "      <td>Dubai</td>\n",
       "    </tr>\n",
       "    <tr>\n",
       "      <th>5</th>\n",
       "      <td>USA</td>\n",
       "      <td>7</td>\n",
       "      <td>4</td>\n",
       "      <td>250</td>\n",
       "      <td>Las vegas</td>\n",
       "    </tr>\n",
       "    <tr>\n",
       "      <th>6</th>\n",
       "      <td>Spain</td>\n",
       "      <td>8</td>\n",
       "      <td>4</td>\n",
       "      <td>15</td>\n",
       "      <td>Tenerife</td>\n",
       "    </tr>\n",
       "    <tr>\n",
       "      <th>7</th>\n",
       "      <td>Italy</td>\n",
       "      <td>8</td>\n",
       "      <td>4</td>\n",
       "      <td>150</td>\n",
       "      <td>Venice</td>\n",
       "    </tr>\n",
       "  </tbody>\n",
       "</table>\n",
       "</div>"
      ],
      "text/plain": [
       "  DESTINATION  FEEDBACK  AVERAGE HOTEL RATING  ALL INCLUSIVE HOTELS  \\\n",
       "3       Japan         8                     5                   250   \n",
       "4         UAE         9                     5                   250   \n",
       "5         USA         7                     4                   250   \n",
       "6       Spain         8                     4                    15   \n",
       "7       Italy         8                     4                   150   \n",
       "\n",
       "  MOST VISTITED CITY  \n",
       "3              Tokyo  \n",
       "4              Dubai  \n",
       "5          Las vegas  \n",
       "6           Tenerife  \n",
       "7             Venice  "
      ]
     },
     "execution_count": 68,
     "metadata": {},
     "output_type": "execute_result"
    }
   ],
   "source": [
    "import pandas as pd\n",
    "data = pd.read_csv('C:/Users/mylaptop/Documents/Data-python/week2/15 holidaydestination.csv')\n",
    "data.iloc[3:8]\n",
    "#df.iloc[0:5] # first five rows of dataframe\n",
    "#print (type (data.iloc[3:8]))#DataFrame type because list selection used."
   ]
  },
  {
   "cell_type": "markdown",
   "metadata": {},
   "source": [
    "sample exercise with Task2"
   ]
  },
  {
   "cell_type": "code",
   "execution_count": 42,
   "metadata": {},
   "outputs": [],
   "source": [
    "#import pandas as pd\n",
    "#data = pd.read_csv('C:/Users/mylaptop/Documents/Data-python/week2/15 holidaydestination.csv')\n",
    "# Single selections using iloc and DataFrame\n",
    "# Rows:\n",
    "#data.iloc[0] # first row of data frame (Aleshia Tomkiewicz) - Note a Series data type output.\n",
    "#data.iloc[1] # second row of data frame (Evan Zigomalas)\n",
    "#data.iloc[-1] # last row of data frame (Mi Richan)\n",
    "# Columns:\n",
    "#data.iloc[:,0] # first column of data frame (first_name)\n",
    "#data.iloc[:,1] # second column of data frame (last_name)\n",
    "#data.iloc[:,-1] # last column of data frame (id)\n",
    "\n",
    "# Multiple row and column selections using iloc and DataFrame\n",
    "#data.iloc[0:5] # first five rows of dataframe\n",
    "#data.iloc[:, 0:2] # first two columns of data frame with all rows\n",
    "#data.iloc[[0,3,6,24], [0,5,6]] # 1st, 4th, 7th, 25th row + 1st 6th 7th columns.\n",
    "#data.iloc[0:5, 5:8] # first 5 rows and 5th, 6th, 7th columns of data frame (county -> phone1).\n",
    "#print type(data.iloc[:, 2])\n",
    "#print type(data.iloc[3:6])\n",
    "#print type(data.iloc[3])"
   ]
  },
  {
   "cell_type": "markdown",
   "metadata": {},
   "source": [
    "Task3\n",
    "Find the mean number of all-inclusive hotels across all destinations.\n",
    "\n"
   ]
  },
  {
   "cell_type": "code",
   "execution_count": 43,
   "metadata": {},
   "outputs": [
    {
     "data": {
      "text/plain": [
       "159.64285714285714"
      ]
     },
     "execution_count": 43,
     "metadata": {},
     "output_type": "execute_result"
    }
   ],
   "source": [
    "import pandas as pd\n",
    "data = pd.read_csv('C:/Users/mylaptop/Documents/Data-python/week2/15 holidaydestination.csv')\n",
    "\n",
    "data['ALL-INCLUSIVE HOTELS'].mean()"
   ]
  },
  {
   "cell_type": "markdown",
   "metadata": {},
   "source": [
    "Task4\n",
    "Find the lowest scoring destination."
   ]
  },
  {
   "cell_type": "code",
   "execution_count": 44,
   "metadata": {},
   "outputs": [
    {
     "data": {
      "text/html": [
       "<div>\n",
       "<style scoped>\n",
       "    .dataframe tbody tr th:only-of-type {\n",
       "        vertical-align: middle;\n",
       "    }\n",
       "\n",
       "    .dataframe tbody tr th {\n",
       "        vertical-align: top;\n",
       "    }\n",
       "\n",
       "    .dataframe thead th {\n",
       "        text-align: right;\n",
       "    }\n",
       "</style>\n",
       "<table border=\"1\" class=\"dataframe\">\n",
       "  <thead>\n",
       "    <tr style=\"text-align: right;\">\n",
       "      <th></th>\n",
       "      <th>DESTINATION</th>\n",
       "      <th>FEEDBACK</th>\n",
       "    </tr>\n",
       "  </thead>\n",
       "  <tbody>\n",
       "    <tr>\n",
       "      <th>9</th>\n",
       "      <td>France</td>\n",
       "      <td>6</td>\n",
       "    </tr>\n",
       "    <tr>\n",
       "      <th>11</th>\n",
       "      <td>China</td>\n",
       "      <td>6</td>\n",
       "    </tr>\n",
       "    <tr>\n",
       "      <th>13</th>\n",
       "      <td>India</td>\n",
       "      <td>6</td>\n",
       "    </tr>\n",
       "  </tbody>\n",
       "</table>\n",
       "</div>"
      ],
      "text/plain": [
       "   DESTINATION  FEEDBACK\n",
       "9       France         6\n",
       "11       China         6\n",
       "13       India         6"
      ]
     },
     "execution_count": 44,
     "metadata": {},
     "output_type": "execute_result"
    }
   ],
   "source": [
    "import pandas as pd\n",
    "data = pd.read_csv('C:/Users/mylaptop/Documents/Data-python/week2/15 holidaydestination.csv')\n",
    "data = {'DESTINATION':['Nigeria','Bali','Maldives','Japan','UAE','USA','Spain','Italy', 'Greece', 'France', 'Bangkok', 'China', 'Istanbul', 'India'], \n",
    "        'FEEDBACK':[9,7,10,8,9,7,8,8,9,6,7,6,7,6]}\n",
    "\n",
    "df = pd.DataFrame(data)\n",
    "\n",
    "#print(df)\n",
    "df[ df['FEEDBACK'] == df['FEEDBACK'].min() ]\n",
    "\n",
    "#df['DESTINATION'].min()\n",
    "#df['FEEDBACK'].min()\n",
    "#print(data.DESTINATION.max())\n",
    "#print(data[data.DESTINATION == data.FEEDBACK.max()])#FEEDBACK 0-10\n",
    "#data= data.loc[[data.DESTINATION.idxmax(), data.DESTINATION.idxmin()]]  \n",
    "#print (data)\n",
    "           "
   ]
  },
  {
   "cell_type": "markdown",
   "metadata": {},
   "source": [
    "Task5\n",
    "Find the highest scoring destination"
   ]
  },
  {
   "cell_type": "code",
   "execution_count": 45,
   "metadata": {},
   "outputs": [
    {
     "data": {
      "text/html": [
       "<div>\n",
       "<style scoped>\n",
       "    .dataframe tbody tr th:only-of-type {\n",
       "        vertical-align: middle;\n",
       "    }\n",
       "\n",
       "    .dataframe tbody tr th {\n",
       "        vertical-align: top;\n",
       "    }\n",
       "\n",
       "    .dataframe thead th {\n",
       "        text-align: right;\n",
       "    }\n",
       "</style>\n",
       "<table border=\"1\" class=\"dataframe\">\n",
       "  <thead>\n",
       "    <tr style=\"text-align: right;\">\n",
       "      <th></th>\n",
       "      <th>DESTINATION</th>\n",
       "      <th>FEEDBACK</th>\n",
       "    </tr>\n",
       "  </thead>\n",
       "  <tbody>\n",
       "    <tr>\n",
       "      <th>2</th>\n",
       "      <td>Maldives</td>\n",
       "      <td>10</td>\n",
       "    </tr>\n",
       "  </tbody>\n",
       "</table>\n",
       "</div>"
      ],
      "text/plain": [
       "  DESTINATION  FEEDBACK\n",
       "2    Maldives        10"
      ]
     },
     "execution_count": 45,
     "metadata": {},
     "output_type": "execute_result"
    }
   ],
   "source": [
    "import pandas as pd\n",
    "data = pd.read_csv('C:/Users/mylaptop/Documents/Data-python/week2/15 holidaydestination.csv')\n",
    "data = {'DESTINATION':['Nigeria','Bali','Maldives','Japan','UAE','USA','Spain','Italy', 'Greece', 'France', 'Bangkok', 'China', 'Istanbul', 'India'], \n",
    "        'FEEDBACK':[9,7,10,8,9,7,8,8,9,6,7,6,7,6]}\n",
    "\n",
    "df = pd.DataFrame(data)\n",
    "\n",
    "#print(df)\n",
    "#df['DESTINATION'].min()\n",
    "#data.max()\n",
    "df[ df['FEEDBACK'] == df['FEEDBACK'].max() ]\n",
    "\n",
    "#data['FEEDBACK'].max()\n",
    "#print(data.DESTINATION.max())"
   ]
  },
  {
   "cell_type": "markdown",
   "metadata": {},
   "source": [
    "Task6\n",
    "Find all the destinations where there are more than 9 all-inclusive hotels. "
   ]
  },
  {
   "cell_type": "code",
   "execution_count": 69,
   "metadata": {},
   "outputs": [
    {
     "name": "stdout",
     "output_type": "stream",
     "text": [
      "   DESTINATION  FEEDBACK  AVERAGE HOTEL RATING  ALL INCLUSIVE HOTELS  \\\n",
      "0      Nigeria         9                     4                   200   \n",
      "1         Bali         7                     5                   100   \n",
      "2     Maldives        10                     5                   200   \n",
      "3        Japan         8                     5                   250   \n",
      "4          UAE         9                     5                   250   \n",
      "5          USA         7                     4                   250   \n",
      "6        Spain         8                     4                    15   \n",
      "7        Italy         8                     4                   150   \n",
      "8       Greece         9                     4                   160   \n",
      "9       France         6                     5                   140   \n",
      "10     Bangkok         7                     4                   130   \n",
      "11       China         6                     4                   140   \n",
      "12    Istanbul         7                     5                   130   \n",
      "13       India         6                     3                   120   \n",
      "\n",
      "   MOST VISTITED CITY  \n",
      "0               Lagos  \n",
      "1            Denpasar  \n",
      "2        Meeru Island  \n",
      "3               Tokyo  \n",
      "4               Dubai  \n",
      "5           Las vegas  \n",
      "6            Tenerife  \n",
      "7              Venice  \n",
      "8             Piraeus  \n",
      "9               Paris  \n",
      "10           Thailand  \n",
      "11              Macau  \n",
      "12             Turkey  \n",
      "13              Delhi  \n"
     ]
    }
   ],
   "source": [
    "import pandas as pd\n",
    "data = pd.read_csv('C:/Users/mylaptop/Documents/Data-python/week2/15 holidaydestination.csv')\n",
    "#df = {'DESTINATION':['Nigeria','Bali','Maldives','Japan','UAE','USA','Spain','Italy', 'Greece', 'France', 'Bangkok', 'China', 'Istanbul', 'India'], \n",
    "        #'ALL-INCLUSIVE HOTELS':[200,100,200,250,250,15,150,160,140,130,140,130,120]}\n",
    "\n",
    "#df = pd.DataFrame(data)\n",
    "\n",
    "#test = df[(df['ALL-INCLUSIVE HOTELS'] > 9)]\n",
    "test = data[(data['ALL INCLUSIVE HOTELS'] > 9)]\n",
    "print(test)\n"
   ]
  },
  {
   "cell_type": "markdown",
   "metadata": {},
   "source": [
    "Task7\n",
    "Filter the data by score above 8.  "
   ]
  },
  {
   "cell_type": "code",
   "execution_count": 47,
   "metadata": {},
   "outputs": [
    {
     "name": "stdout",
     "output_type": "stream",
     "text": [
      "  DESTINATION  FEEDBACK  AVERAGE HOTEL RATING  ALL-INCLUSIVE HOTELS  \\\n",
      "0     Nigeria         9                     4                   200   \n",
      "2    Maldives        10                     5                   200   \n",
      "4         UAE         9                     5                   250   \n",
      "8      Greece         9                     4                   160   \n",
      "\n",
      "  MOST VISTITED CITY  \n",
      "0              Lagos  \n",
      "2       Meeru Island  \n",
      "4              Dubai  \n",
      "8            Piraeus  \n"
     ]
    }
   ],
   "source": [
    "import pandas as pd\n",
    "data = pd.read_csv('C:/Users/mylaptop/Documents/Data-python/week2/15 holidaydestination.csv')\n",
    "test = data[(data['FEEDBACK'] > 8)]\n",
    "print(test)\n",
    "#data(['data'] > 8)\n",
    "#print(data > 8)\n"
   ]
  },
  {
   "cell_type": "markdown",
   "metadata": {},
   "source": [
    "Task8\n",
    "Filter the data score below 2 "
   ]
  },
  {
   "cell_type": "code",
   "execution_count": 48,
   "metadata": {},
   "outputs": [
    {
     "name": "stdout",
     "output_type": "stream",
     "text": [
      "Empty DataFrame\n",
      "Columns: [DESTINATION, FEEDBACK, AVERAGE HOTEL RATING, ALL-INCLUSIVE HOTELS, MOST VISTITED CITY]\n",
      "Index: []\n"
     ]
    }
   ],
   "source": [
    "import pandas as pd\n",
    "data = pd.read_csv('C:/Users/mylaptop/Documents/Data-python/week2/15 holidaydestination.csv')\n",
    "test = data[(data['FEEDBACK'] < 2)]\n",
    "print(test)\n"
   ]
  },
  {
   "cell_type": "markdown",
   "metadata": {},
   "source": [
    "Task9\n",
    "Is there a correlation between number of all-inclusive hotels and score?"
   ]
  },
  {
   "cell_type": "code",
   "execution_count": 2,
   "metadata": {},
   "outputs": [
    {
     "name": "stdout",
     "output_type": "stream",
     "text": [
      "0.3639768127222851\n"
     ]
    }
   ],
   "source": [
    "import pandas as pd\n",
    "data = pd.read_csv('C:/Users/mylaptop/Documents/Data-python/week2/15 holidaydestination.csv')\n",
    "#data.get('ALL INCLUSIVE HOTELS')\n",
    "column_1 = data['ALL INCLUSIVE HOTELS']\n",
    "column_2 = data['FEEDBACK']\n",
    "correlation = column_1.corr(column_2)\n",
    "print(correlation)"
   ]
  },
  {
   "cell_type": "markdown",
   "metadata": {},
   "source": [
    "Task10\n",
    "Create a data visualisation diagram to show destination and highest scores?"
   ]
  },
  {
   "cell_type": "code",
   "execution_count": 3,
   "metadata": {},
   "outputs": [
    {
     "data": {
      "text/plain": [
       "Text(0, 0.5, 'FEEDBACK')"
      ]
     },
     "execution_count": 3,
     "metadata": {},
     "output_type": "execute_result"
    },
    {
     "data": {
      "image/png": "[encoded data removed]",
      "text/plain": [
       "<Figure size 432x288 with 1 Axes>"
      ]
     },
     "metadata": {
      "needs_background": "light"
     },
     "output_type": "display_data"
    }
   ],
   "source": [
    "from matplotlib import pyplot as plt\n",
    "import pandas as pd\n",
    "#import matplotlib.pyplot as plt\n",
    "# Create a sample dataframe with an text index\n",
    "plotdata = pd.DataFrame(\n",
    "    {\"FEEDBACK\": [9,7,10,8,9,7,8,8,9,6,7,6,7,6]}, \n",
    "    index=['Nigeria','Bali','Maldives','Japan','UAE','USA','Spain','Italy', 'Greece', 'France', 'Bangkok', 'China', 'Istanbul', 'India'])\n",
    "# Plot a bar chart\n",
    "plotdata.plot(kind=\"bar\")\n",
    "#plotdata['pies'].plot(kind=\"bar\", title=\"test\")\n",
    "# Rotate the x-labels by 30 degrees, and keep the text aligned horizontally\n",
    "plt.xticks(rotation=30, horizontalalignment=\"center\")\n",
    "plt.title(\"15 holiday destination\")\n",
    "plt.xlabel(\"DESTINATION\")\n",
    "plt.ylabel(\"FEEDBACK\")"
   ]
  }
 ],
 "metadata": {
  "interpreter": {
   "hash": "08df78cca0249cc6f2e7febd3cd489c2ee40c1cbfae9840126cdf94687776c41"
  },
  "kernelspec": {
   "display_name": "Python 3.9.0 64-bit",
   "name": "python3"
  },
  "language_info": {
   "codemirror_mode": {
    "name": "ipython",
    "version": 3
   },
   "file_extension": ".py",
   "mimetype": "text/x-python",
   "name": "python",
   "nbconvert_exporter": "python",
   "pygments_lexer": "ipython3",
   "version": "3.9.0"
  },
  "orig_nbformat": 4
 },
 "nbformat": 4,
 "nbformat_minor": 2
}
