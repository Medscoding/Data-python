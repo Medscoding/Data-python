{
 "cells": [
  {
   "cell_type": "markdown",
   "metadata": {},
   "source": []
  },
  {
   "cell_type": "code",
   "execution_count": null,
   "metadata": {},
   "outputs": [],
   "source": [
    "import pandas as pd\n",
    "\n",
    "# Create data\n",
    "df = pd.read_csv('15 holidaydestination.csv')\n",
    "\n",
    "\n",
    "# Set index\n",
    "df = df.set_index('Keyword')\n",
    "\n",
    "for dest, group in df.groupby('destination'):\n",
    "    group.to_csv(dest + '.csv')\n",
    "\n",
    "continents = ['Asia','Europe','Africa','North America','South America','Oceania']"
   ]
  }
 ],
 "metadata": {
  "language_info": {
   "name": "python"
  },
  "orig_nbformat": 4
 },
 "nbformat": 4,
 "nbformat_minor": 2
}
