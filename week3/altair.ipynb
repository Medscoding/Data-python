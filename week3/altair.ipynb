{
 "cells": [
  {
   "cell_type": "markdown",
   "metadata": {},
   "source": [
    "to see the data"
   ]
  },
  {
   "cell_type": "code",
   "execution_count": null,
   "metadata": {},
   "outputs": [],
   "source": [
    "import altair as alt\n",
    "from vega_datasets import data\n",
    "iris = data.iris()\n",
    "iris.head()\n",
    "iris.tail()\n",
    "iris.shape\n",
    "iris.info\n"
   ]
  },
  {
   "cell_type": "markdown",
   "metadata": {},
   "source": [
    "how to draw a chart"
   ]
  },
  {
   "cell_type": "code",
   "execution_count": null,
   "metadata": {},
   "outputs": [],
   "source": [
    "import altair as alt\n",
    "from vega_datasets import data\n",
    "alt.renderers.enable('altair_viewer')\n",
    "chart = alt.Chart(iris).mark_point().encode(\n",
    "    x='sepalLength',\n",
    "    y='sepalWidth',\n",
    "    color='species')\n",
    "chart.show()\n",
    "chart.save('IRIS.html')"
   ]
  },
  {
   "cell_type": "markdown",
   "metadata": {},
   "source": [
    "Altair Task"
   ]
  },
  {
   "cell_type": "code",
   "execution_count": null,
   "metadata": {},
   "outputs": [],
   "source": [
    "import altair as alt\n",
    "import pandas as pd\n",
    "alt.renderers.enable('altair_viewer')\n",
    "data = pd.read_csv('C:/Users/mylaptop/Documents/Data-python/week3/Surveillance.csv')\n",
    "#row, col = data.shape\n",
    "#data =({\n",
    "   # 'col_1':('A01,A02,A03,A04,A05,A06,A07'),\n",
    "    #'col_2': [+,+,+,+,+,-,-,PUS]\n",
    "#})\n",
    "chart = alt.Chart(data)\n",
    "alt.Chart(data).mark_bar().encode()\n",
    "    #x='col_1',\n",
    "    #y='col_2',\n",
    "    #color='species'\n",
    "#)\n",
    "#chart.show()"
   ]
  }
 ],
 "metadata": {
  "interpreter": {
   "hash": "d64cbb437b42e13802b67a34835c4a4c168129dbbce99a6873cf1c99812eea98"
  },
  "kernelspec": {
   "display_name": "Python 3.8.12 64-bit ('mayodata': conda)",
   "name": "python3"
  },
  "language_info": {
   "codemirror_mode": {
    "name": "ipython",
    "version": 3
   },
   "file_extension": ".py",
   "mimetype": "text/x-python",
   "name": "python",
   "nbconvert_exporter": "python",
   "pygments_lexer": "ipython3",
   "version": "3.8.12"
  },
  "orig_nbformat": 4
 },
 "nbformat": 4,
 "nbformat_minor": 2
}
