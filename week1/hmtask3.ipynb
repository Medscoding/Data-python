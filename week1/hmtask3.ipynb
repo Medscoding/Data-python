{
 "cells": [
  {
   "cell_type": "markdown",
   "metadata": {},
   "source": [
    "Task1\n",
    "Write a program that allows you to enter 4 numbers \n",
    "and stores them in a file called “Numbers”"
   ]
  },
  {
   "cell_type": "code",
   "execution_count": null,
   "metadata": {},
   "outputs": [],
   "source": [
    "# List of data values to be outputted.\n",
    "aList = [3, 45, 83, 21]\n",
    "\n",
    "# Open the file for writing\n",
    "dataFile = open('Numbers.txt', 'w')\n",
    "\n",
    "# Loop through each item in the list\n",
    "# and write it to the output file.\n",
    "for eachitem in aList:\n",
    "    dataFile.write(str(eachitem)+'\\n')\n",
    "\n",
    "# Close the output file\n",
    "dataFile.close()"
   ]
  },
  {
   "cell_type": "markdown",
   "metadata": {},
   "source": [
    "Task2\n",
    "Write a program to ask \n",
    "a student for their \n",
    "percentage mark and \n",
    "convert this to a grade.\n",
    "\n",
    "The conversion will be \n",
    "done in a function \n",
    "called mark_grade"
   ]
  },
  {
   "cell_type": "code",
   "execution_count": 13,
   "metadata": {},
   "outputs": [],
   "source": [
    "def mark_grade(student_mark):\n",
    "    student_mark = int(input(\"enter you mark to see your grade\"))\n",
    "    ''' p_a = 100\n",
    "    p_b = 80\n",
    "    p_c = 60\n",
    "    p_d = 40'''\n",
    "    if student_mark <= 100:\n",
    "        print(\"your grade is:\" + \"A\")\n",
    "    elif student_mark <= 80:\n",
    "        print(\"your grade is:\", + \"B\")\n",
    "    elif student_mark <= 60:\n",
    "        print(\"your grade is:\", + \"C\")\n",
    "    elif student_mark == 40:\n",
    "        print(\"your grade is:\", + \"D\")\n",
    "    else:\n",
    "        print(\"you fail study more, you can do it\")"
   ]
  },
  {
   "cell_type": "code",
   "execution_count": 14,
   "metadata": {},
   "outputs": [],
   "source": [
    "def mark_grade(scores):\n",
    "    scores = int(input(\"enter you mark to see your grade\"))\n",
    "    if scores >= 90 and scores <= 100:\n",
    "        return 'A'\n",
    "    elif scores >= 80 and scores <= 89:\n",
    "        return 'B'\n",
    "    elif scores >= 70 and scores <= 79:\n",
    "        return 'C'\n",
    "    elif scores >= 60 and scores <= 69:\n",
    "        return 'D'\n",
    "    elif scores >= 50 and scores <= 59:\n",
    "        return 'E'\n",
    "    else:\n",
    "        return 'F'"
   ]
  },
  {
   "cell_type": "markdown",
   "metadata": {},
   "source": [
    "Task3\n",
    "Ask the user for their target grade and print this with their \n",
    "mark\n",
    "•If their target grade > exam grade display a suitable \n",
    "message\n",
    "•If their target grade = exam grade display a suitable \n",
    "message\n",
    "•If their target grade < exam grade display a suitable \n",
    "message"
   ]
  },
  {
   "cell_type": "code",
   "execution_count": 15,
   "metadata": {},
   "outputs": [],
   "source": [
    "def mark_grade(target_grade, exam_grade):\n",
    "    target_grade = input(\"enter your target grade\")\n",
    "    mark_a = 100\n",
    "    mark_b = 80\n",
    "    mark_c = 60\n",
    "    mark_d = 40\n",
    "    exam_grade = (mark_a + mark_b + mark_c + mark_d)\n",
    "    print(target_grade + exam_grade)\n",
    "    if target_grade > exam_grade:\n",
    "        print(\"Excellent keep up the work\")\n",
    "    elif target_grade == exam_grade:\n",
    "        print(\"Good job, keep going\")\n",
    "    elif target_grade < exam_grade:\n",
    "        print(\"Keep going, you can do it\")\n",
    "    else:\n",
    "        print(\"Do not give up, you can do it\")\n"
   ]
  }
 ],
 "metadata": {
  "interpreter": {
   "hash": "08df78cca0249cc6f2e7febd3cd489c2ee40c1cbfae9840126cdf94687776c41"
  },
  "kernelspec": {
   "display_name": "Python 3.9.0 64-bit",
   "name": "python3"
  },
  "language_info": {
   "codemirror_mode": {
    "name": "ipython",
    "version": 3
   },
   "file_extension": ".py",
   "mimetype": "text/x-python",
   "name": "python",
   "nbconvert_exporter": "python",
   "pygments_lexer": "ipython3",
   "version": "3.9.0"
  },
  "orig_nbformat": 4
 },
 "nbformat": 4,
 "nbformat_minor": 2
}
