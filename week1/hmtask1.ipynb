{
 "cells": [
  {
   "cell_type": "markdown",
   "metadata": {},
   "source": [
    "Task1\n"
   ]
  },
  {
   "cell_type": "code",
   "execution_count": 6,
   "metadata": {},
   "outputs": [
    {
     "name": "stdout",
     "output_type": "stream",
     "text": [
      "mI am thinking of a number between 1 and 10\n",
      "wrong\n",
      "better luck next time, do not give up.\n"
     ]
    }
   ],
   "source": [
    "import random\n",
    "name = input(\"what is your name\")\n",
    "var_rand_num = random.randint(1, 10)\n",
    "print(name  +  \"I am thinking of a number between 1 and 10\")\n",
    "guess = int(input(\"take a guess:\"))\n",
    "\n",
    "if guess == var_rand_num:\n",
    "    print(\"well done,  you guess correctly\")\n",
    "else:\n",
    "    print(\"wrong\\n\" \"better luck next time, do not give up.\")"
   ]
  },
  {
   "cell_type": "markdown",
   "metadata": {},
   "source": [
    "Task2\n",
    "Write a program that asks a user for their favourite number between 1 \n",
    "and 100 and then tells them a joke based on the number. You should "
   ]
  },
  {
   "cell_type": "code",
   "execution_count": 29,
   "metadata": {},
   "outputs": [
    {
     "name": "stdout",
     "output_type": "stream",
     "text": [
      "you need to pick number between 1 and 100\n"
     ]
    }
   ],
   "source": [
    "fav_num = int(input(\"what is your favourite number between 1 and 100?\"))\n",
    "if fav_num <= 25:\n",
    "    print(\"A TV can insult your intelligence, but nothing rubs it in like a computer.\")\n",
    "elif fav_num <= 50: \n",
    "    print(\"I asked God for a bike, but I know God doesn't work that way. So I stole a bike and asked for forgiveness.\")\n",
    "elif fav_num <= 100:\n",
    "    print(\"The next sentence is telling the truth. The previous sentence is telling a lie.\")\n",
    "else:\n",
    "    print(\"you need to pick number between 1 and 100\")"
   ]
  },
  {
   "cell_type": "markdown",
   "metadata": {},
   "source": [
    "Task3\n",
    "Write a program that allows user to enter their favourite starter, main \n",
    "course, dessert and drink.\n",
    "Concatenate these and output a message which says –“Your favourite \n",
    "meal is  .........with a glass of....”"
   ]
  },
  {
   "cell_type": "code",
   "execution_count": 5,
   "metadata": {},
   "outputs": [
    {
     "name": "stdout",
     "output_type": "stream",
     "text": [
      "your favourite meal is:\n",
      "rrc\n",
      "with a glass of:\n",
      "m\n"
     ]
    }
   ],
   "source": [
    "fav_startr = input(\"what is your favourite starter?\")\n",
    "fav_main_course = input(\"what is your favourite main course?\")\n",
    "fav_dessrt = input(\"what is your favourite dessert?\")\n",
    "fav_drink = input(\"what is your favourite drink?\")\n",
    "fav_meal = (fav_startr + \"\" + fav_main_course + \"\" + fav_dessrt)\n",
    "print(\"your favourite meal is:\\n\"  + fav_meal + \"\\n\" + \"with a glass of:\\n\" + fav_drink) \n"
   ]
  },
  {
   "cell_type": "markdown",
   "metadata": {},
   "source": [
    "Task 4\n",
    "A motorbike costs £2000 and loses 10% of its value every year. Using a \n",
    "loop, print the value of the bike every following year until it falls below "
   ]
  },
  {
   "cell_type": "code",
   "execution_count": null,
   "metadata": {},
   "outputs": [],
   "source": [
    "cost = 2000\n",
    "while cost > 1000:\n",
    "    print(\"£\", cost)\n",
    "    cost = cost * 0.9"
   ]
  },
  {
   "cell_type": "markdown",
   "metadata": {},
   "source": [
    "Task 5\n",
    "Write a program which will ask for two numbers from a user. Then \n",
    "offer a menu to the user giving them a choice of operator:\n",
    "e.g. –Enter “a” if you want to add\n",
    "“b” if you want to subtract\n",
    "Include +, -, /, *, ** square (to the power of). Once the user has \n",
    "selected which operator they wish to use, perform the calculation.\n"
   ]
  },
  {
   "cell_type": "code",
   "execution_count": null,
   "metadata": {},
   "outputs": [],
   "source": [
    "num1 = int(input(\"Enter First Number: \"))\n",
    "num2 = int(input(\"Enter Second Number: \"))\n",
    "\n",
    "print(\"Enter which operation would you like to perform?\")\n",
    "cho = input(\"Enter any of these char for specific operation +,-,*,/: \")\n",
    "\n",
    "result = 0\n",
    "if cho == '+':\n",
    "    result = num1 + num2\n",
    "elif cho == '-':\n",
    "    result = num1 - num2\n",
    "elif cho == '*':\n",
    "    result = num1 * num2\n",
    "elif cho == '/':\n",
    "    result = num1 / num2\n",
    "else:\n",
    "    print(\"Input character is not recognized!\")\n",
    "\n",
    "print(num1, cho , num2, \":\", result)"
   ]
  },
  {
   "cell_type": "code",
   "execution_count": 47,
   "metadata": {},
   "outputs": [
    {
     "ename": "ValueError",
     "evalue": "invalid literal for int() with base 10: ''",
     "output_type": "error",
     "traceback": [
      "\u001b[1;31m---------------------------------------------------------------------------\u001b[0m",
      "\u001b[1;31mValueError\u001b[0m                                Traceback (most recent call last)",
      "\u001b[1;32m~\\AppData\\Local\\Temp/ipykernel_11192/1152650249.py\u001b[0m in \u001b[0;36m<module>\u001b[1;34m\u001b[0m\n\u001b[0;32m      1\u001b[0m \u001b[1;31m#the menu ill print all numbers and what they do to the user\u001b[0m\u001b[1;33m\u001b[0m\u001b[1;33m\u001b[0m\u001b[1;33m\u001b[0m\u001b[0m\n\u001b[0;32m      2\u001b[0m \u001b[1;33m\u001b[0m\u001b[0m\n\u001b[1;32m----> 3\u001b[1;33m \u001b[0mmenu\u001b[0m \u001b[1;33m=\u001b[0m\u001b[0mint\u001b[0m\u001b[1;33m(\u001b[0m\u001b[0minput\u001b[0m\u001b[1;33m(\u001b[0m\u001b[1;34m\"enter a number between 1 to 7 to see the menu operator\"\u001b[0m\u001b[1;33m)\u001b[0m\u001b[1;33m)\u001b[0m\u001b[1;33m\u001b[0m\u001b[1;33m\u001b[0m\u001b[0m\n\u001b[0m\u001b[0;32m      4\u001b[0m \u001b[1;32mif\u001b[0m \u001b[0mmenu\u001b[0m \u001b[1;33m<=\u001b[0m \u001b[1;36m2\u001b[0m\u001b[1;33m:\u001b[0m\u001b[1;33m\u001b[0m\u001b[1;33m\u001b[0m\u001b[0m\n\u001b[0;32m      5\u001b[0m     \u001b[0ma\u001b[0m \u001b[1;33m=\u001b[0m \u001b[1;33m(\u001b[0m\u001b[1;34m\"enter a number to see the menu operator:\"\u001b[0m\u001b[1;33m)\u001b[0m\u001b[1;33m\u001b[0m\u001b[1;33m\u001b[0m\u001b[0m\n",
      "\u001b[1;31mValueError\u001b[0m: invalid literal for int() with base 10: ''"
     ]
    }
   ],
   "source": [
    "#the menu ill print all numbers and what they do to the user\n",
    "\n",
    "'''menu =int(input(\"enter a number between 1 to 2 to see the menu operator\"))\n",
    "if menu <= 2:\n",
    "    a = (\"enter a number to see the menu operator:\")\n",
    "    b = (\"enter a number to see the menu operator:\")\n",
    "print(a + b)'''\n",
    "\n",
    "#elif fav_num <= 50: \n",
    "   # print(\"I asked God for a bike, but I know God doesn't work that way. So I stole a bike and asked for forgiveness.\")\n",
    "#elif fav_num <= 100:\n",
    "   # print(\"The next sentence is telling the truth. The previous sentence is telling a lie.\")\n",
    "#else:\n",
    "   # print(\"you need to pick number between 1 and 100\")\n",
    "\n",
    "#a = (\"enter a number to see the menu operator:\")\n",
    "#b = (\"enter a number to see the menu operator:\")\n",
    "#print(a + b)\n",
    "#meuu_opt = (a + b)\n",
    "#1 = a\n",
    "#2 = b\n",
    "#3 = (\"enter a number to see the menu operator:\" + c)\n",
    "#4 =int(input(\"enter first number of your choice\"))\n",
    "#6 =int(input(\"enter second number of your choice\"))\n",
    "#7 = (\"+\")\n",
    "#input(\"enter a if you want to add\n",
    "#“b” if you want to subtract"
   ]
  }
 ],
 "metadata": {
  "interpreter": {
   "hash": "08df78cca0249cc6f2e7febd3cd489c2ee40c1cbfae9840126cdf94687776c41"
  },
  "kernelspec": {
   "display_name": "Python 3.9.0 64-bit",
   "name": "python3"
  },
  "language_info": {
   "codemirror_mode": {
    "name": "ipython",
    "version": 3
   },
   "file_extension": ".py",
   "mimetype": "text/x-python",
   "name": "python",
   "nbconvert_exporter": "python",
   "pygments_lexer": "ipython3",
   "version": "3.9.0"
  },
  "orig_nbformat": 4
 },
 "nbformat": 4,
 "nbformat_minor": 2
}
