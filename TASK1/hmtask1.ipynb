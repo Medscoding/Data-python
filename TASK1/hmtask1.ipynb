{
 "cells": [
  {
   "cell_type": "markdown",
   "source": [
    "Task1\r\n"
   ],
   "metadata": {}
  },
  {
   "cell_type": "code",
   "execution_count": 36,
   "source": [
    "import random\r\n",
    "name = input(\"what is your name\")\r\n",
    "var_rand_num = random.randint(1, 10)\r\n",
    "print(name  +  \"I am thinking of a number between 1 and 10\")\r\n",
    "guess = int(input(\"take a guess:\"))\r\n",
    "\r\n",
    "if guess == var_rand_num:\r\n",
    "    print(\"well done,  you guess correctly\")\r\n",
    "else:\r\n",
    "    print(\"wrong, \"\"  better luck next time, do not give up.\")"
   ],
   "outputs": [
    {
     "output_type": "stream",
     "name": "stdout",
     "text": [
      "mI am thinking of a number between 1 and 10\n"
     ]
    },
    {
     "output_type": "error",
     "ename": "ValueError",
     "evalue": "invalid literal for int() with base 10: 'y'",
     "traceback": [
      "\u001b[1;31m---------------------------------------------------------------------------\u001b[0m",
      "\u001b[1;31mValueError\u001b[0m                                Traceback (most recent call last)",
      "\u001b[1;32m~\\AppData\\Local\\Temp/ipykernel_11192/1452713337.py\u001b[0m in \u001b[0;36m<module>\u001b[1;34m\u001b[0m\n\u001b[0;32m      3\u001b[0m \u001b[0mvar_rand_num\u001b[0m \u001b[1;33m=\u001b[0m \u001b[0mrandom\u001b[0m\u001b[1;33m.\u001b[0m\u001b[0mrandint\u001b[0m\u001b[1;33m(\u001b[0m\u001b[1;36m1\u001b[0m\u001b[1;33m,\u001b[0m \u001b[1;36m10\u001b[0m\u001b[1;33m)\u001b[0m\u001b[1;33m\u001b[0m\u001b[1;33m\u001b[0m\u001b[0m\n\u001b[0;32m      4\u001b[0m \u001b[0mprint\u001b[0m\u001b[1;33m(\u001b[0m\u001b[0mname\u001b[0m  \u001b[1;33m+\u001b[0m  \u001b[1;34m\"I am thinking of a number between 1 and 10\"\u001b[0m\u001b[1;33m)\u001b[0m\u001b[1;33m\u001b[0m\u001b[1;33m\u001b[0m\u001b[0m\n\u001b[1;32m----> 5\u001b[1;33m \u001b[0mguess\u001b[0m \u001b[1;33m=\u001b[0m \u001b[0mint\u001b[0m\u001b[1;33m(\u001b[0m\u001b[0minput\u001b[0m\u001b[1;33m(\u001b[0m\u001b[1;34m\"take a guess:\"\u001b[0m\u001b[1;33m)\u001b[0m\u001b[1;33m)\u001b[0m\u001b[1;33m\u001b[0m\u001b[1;33m\u001b[0m\u001b[0m\n\u001b[0m\u001b[0;32m      6\u001b[0m \u001b[1;33m\u001b[0m\u001b[0m\n\u001b[0;32m      7\u001b[0m \u001b[1;32mif\u001b[0m \u001b[0mguess\u001b[0m \u001b[1;33m==\u001b[0m \u001b[0mvar_rand_num\u001b[0m\u001b[1;33m:\u001b[0m\u001b[1;33m\u001b[0m\u001b[1;33m\u001b[0m\u001b[0m\n",
      "\u001b[1;31mValueError\u001b[0m: invalid literal for int() with base 10: 'y'"
     ]
    }
   ],
   "metadata": {}
  },
  {
   "cell_type": "markdown",
   "source": [
    "Task2\r\n",
    "Write a program that asks a user for their favourite number between 1 \r\n",
    "and 100 and then tells them a joke based on the number. You should "
   ],
   "metadata": {}
  },
  {
   "cell_type": "code",
   "execution_count": 29,
   "source": [
    "fav_num = int(input(\"what is your favourite number between 1 and 100?\"))\r\n",
    "if fav_num <= 25:\r\n",
    "    print(\"A TV can insult your intelligence, but nothing rubs it in like a computer.\")\r\n",
    "elif fav_num <= 50: \r\n",
    "    print(\"I asked God for a bike, but I know God doesn't work that way. So I stole a bike and asked for forgiveness.\")\r\n",
    "elif fav_num <= 100:\r\n",
    "    print(\"The next sentence is telling the truth. The previous sentence is telling a lie.\")\r\n",
    "else:\r\n",
    "    print(\"you need to pick number between 1 and 100\")"
   ],
   "outputs": [
    {
     "output_type": "stream",
     "name": "stdout",
     "text": [
      "you need to pick number between 1 and 100\n"
     ]
    }
   ],
   "metadata": {}
  },
  {
   "cell_type": "markdown",
   "source": [
    "Task3\r\n",
    "Write a program that allows user to enter their favourite starter, main \r\n",
    "course, dessert and drink.\r\n",
    "Concatenate these and output a message which says –“Your favourite \r\n",
    "meal is  .........with a glass of....”"
   ],
   "metadata": {}
  },
  {
   "cell_type": "code",
   "execution_count": 42,
   "source": [
    "fav_startr = input(\"what is your favourite starter?\")\r\n",
    "fav_main_course = input(\"what is your favourite main course?\")\r\n",
    "fav_dessrt = input(\"what is your favourite dessert?\")\r\n",
    "fav_drink = input(\"what is your favourite drink?\")\r\n",
    "fav_meal = (fav_startr + \"\" + fav_main_course + \"\" + fav_dessrt)\r\n",
    "print(\"your favourite meal is:\"  \"\" + fav_meal + \"\"  \"with a glass of:\" + \"\" + fav_drink) \r\n"
   ],
   "outputs": [
    {
     "output_type": "stream",
     "name": "stdout",
     "text": [
      "your favourite meal is:rrcwith a glass of: +  + fav_drink\n"
     ]
    }
   ],
   "metadata": {}
  },
  {
   "cell_type": "markdown",
   "source": [
    "Task 4\r\n",
    "A motorbike costs £2000 and loses 10% of its value every year. Using a \r\n",
    "loop, print the value of the bike every following year until it falls below "
   ],
   "metadata": {}
  },
  {
   "cell_type": "code",
   "execution_count": null,
   "source": [
    "cost = 2000\r\n",
    "while cost > 1000:\r\n",
    "    print(\"£\", cost)\r\n",
    "    cost = cost * 0.9"
   ],
   "outputs": [],
   "metadata": {}
  },
  {
   "cell_type": "markdown",
   "source": [
    "Task 5\r\n",
    "Write a program which will ask for two numbers from a user. Then \r\n",
    "offer a menu to the user giving them a choice of operator:\r\n",
    "e.g. –Enter “a” if you want to add\r\n",
    "“b” if you want to subtract\r\n",
    "Include +, -, /, *, ** square (to the power of). Once the user has \r\n",
    "selected which operator they wish to use, perform the calculation.\r\n"
   ],
   "metadata": {}
  },
  {
   "cell_type": "code",
   "execution_count": null,
   "source": [
    "num1 = int(input(\"Enter First Number: \"))\r\n",
    "num2 = int(input(\"Enter Second Number: \"))\r\n",
    "\r\n",
    "print(\"Enter which operation would you like to perform?\")\r\n",
    "cho = input(\"Enter any of these char for specific operation +,-,*,/: \")\r\n",
    "\r\n",
    "result = 0\r\n",
    "if cho == '+':\r\n",
    "    result = num1 + num2\r\n",
    "elif cho == '-':\r\n",
    "    result = num1 - num2\r\n",
    "elif cho == '*':\r\n",
    "    result = num1 * num2\r\n",
    "elif cho == '/':\r\n",
    "    result = num1 / num2\r\n",
    "else:\r\n",
    "    print(\"Input character is not recognized!\")\r\n",
    "\r\n",
    "print(num1, cho , num2, \":\", result)"
   ],
   "outputs": [],
   "metadata": {}
  },
  {
   "cell_type": "code",
   "execution_count": 47,
   "source": [
    "#the menu ill print all numbers and what they do to the user\r\n",
    "\r\n",
    "'''menu =int(input(\"enter a number between 1 to 2 to see the menu operator\"))\r\n",
    "if menu <= 2:\r\n",
    "    a = (\"enter a number to see the menu operator:\")\r\n",
    "    b = (\"enter a number to see the menu operator:\")\r\n",
    "print(a + b)'''\r\n",
    "\r\n",
    "#elif fav_num <= 50: \r\n",
    "   # print(\"I asked God for a bike, but I know God doesn't work that way. So I stole a bike and asked for forgiveness.\")\r\n",
    "#elif fav_num <= 100:\r\n",
    "   # print(\"The next sentence is telling the truth. The previous sentence is telling a lie.\")\r\n",
    "#else:\r\n",
    "   # print(\"you need to pick number between 1 and 100\")\r\n",
    "\r\n",
    "#a = (\"enter a number to see the menu operator:\")\r\n",
    "#b = (\"enter a number to see the menu operator:\")\r\n",
    "#print(a + b)\r\n",
    "#meuu_opt = (a + b)\r\n",
    "#1 = a\r\n",
    "#2 = b\r\n",
    "#3 = (\"enter a number to see the menu operator:\" + c)\r\n",
    "#4 =int(input(\"enter first number of your choice\"))\r\n",
    "#6 =int(input(\"enter second number of your choice\"))\r\n",
    "#7 = (\"+\")\r\n",
    "#input(\"enter a if you want to add\r\n",
    "#“b” if you want to subtract"
   ],
   "outputs": [
    {
     "output_type": "error",
     "ename": "ValueError",
     "evalue": "invalid literal for int() with base 10: ''",
     "traceback": [
      "\u001b[1;31m---------------------------------------------------------------------------\u001b[0m",
      "\u001b[1;31mValueError\u001b[0m                                Traceback (most recent call last)",
      "\u001b[1;32m~\\AppData\\Local\\Temp/ipykernel_11192/1152650249.py\u001b[0m in \u001b[0;36m<module>\u001b[1;34m\u001b[0m\n\u001b[0;32m      1\u001b[0m \u001b[1;31m#the menu ill print all numbers and what they do to the user\u001b[0m\u001b[1;33m\u001b[0m\u001b[1;33m\u001b[0m\u001b[1;33m\u001b[0m\u001b[0m\n\u001b[0;32m      2\u001b[0m \u001b[1;33m\u001b[0m\u001b[0m\n\u001b[1;32m----> 3\u001b[1;33m \u001b[0mmenu\u001b[0m \u001b[1;33m=\u001b[0m\u001b[0mint\u001b[0m\u001b[1;33m(\u001b[0m\u001b[0minput\u001b[0m\u001b[1;33m(\u001b[0m\u001b[1;34m\"enter a number between 1 to 7 to see the menu operator\"\u001b[0m\u001b[1;33m)\u001b[0m\u001b[1;33m)\u001b[0m\u001b[1;33m\u001b[0m\u001b[1;33m\u001b[0m\u001b[0m\n\u001b[0m\u001b[0;32m      4\u001b[0m \u001b[1;32mif\u001b[0m \u001b[0mmenu\u001b[0m \u001b[1;33m<=\u001b[0m \u001b[1;36m2\u001b[0m\u001b[1;33m:\u001b[0m\u001b[1;33m\u001b[0m\u001b[1;33m\u001b[0m\u001b[0m\n\u001b[0;32m      5\u001b[0m     \u001b[0ma\u001b[0m \u001b[1;33m=\u001b[0m \u001b[1;33m(\u001b[0m\u001b[1;34m\"enter a number to see the menu operator:\"\u001b[0m\u001b[1;33m)\u001b[0m\u001b[1;33m\u001b[0m\u001b[1;33m\u001b[0m\u001b[0m\n",
      "\u001b[1;31mValueError\u001b[0m: invalid literal for int() with base 10: ''"
     ]
    }
   ],
   "metadata": {}
  }
 ],
 "metadata": {
  "orig_nbformat": 4,
  "language_info": {
   "name": "python",
   "version": "3.9.0",
   "mimetype": "text/x-python",
   "codemirror_mode": {
    "name": "ipython",
    "version": 3
   },
   "pygments_lexer": "ipython3",
   "nbconvert_exporter": "python",
   "file_extension": ".py"
  },
  "kernelspec": {
   "name": "python3",
   "display_name": "Python 3.9.0 64-bit"
  },
  "interpreter": {
   "hash": "08df78cca0249cc6f2e7febd3cd489c2ee40c1cbfae9840126cdf94687776c41"
  }
 },
 "nbformat": 4,
 "nbformat_minor": 2
}