{
 "cells": [
  {
   "cell_type": "markdown",
   "source": [
    "Task2\r\n",
    "As an extension to the motorbike task that costs \r\n",
    "£2000 and loses 10% of its value every year. Set up \r\n",
    "a function that performs the calculation by passing \r\n",
    "in parameters. Then using a loop, print the value of \r\n",
    "the bike every following year until it falls below \r\n",
    "£1000."
   ],
   "metadata": {}
  },
  {
   "cell_type": "code",
   "execution_count": 13,
   "source": [
    "def function_1(cost):\r\n",
    "    cost = 2000\r\n",
    "    while cost > 1000:\r\n",
    "        print(\"£\", cost)\r\n",
    "        cost = cost * 0.9\r\n",
    "        function_1(cost)"
   ],
   "outputs": [],
   "metadata": {}
  },
  {
   "cell_type": "markdown",
   "source": [
    "Task3\r\n",
    "Write a program which will ask for two numbers \r\n",
    "from a user. Then offer an option menu to the user \r\n",
    "giving them a choice of maths operators. Once the \r\n",
    "user has selected which operator they wish to use, \r\n",
    "perform the calculation by using a procedure and \r\n",
    "passing parameters. "
   ],
   "metadata": {}
  },
  {
   "cell_type": "code",
   "execution_count": 5,
   "source": [
    "def procedure_1(inp_num1,inp_num2):\r\n",
    "    num1 = inp_num1\r\n",
    "    num2 = inp_num2\r\n",
    "    print(\"Enter which operation would you like to perform?\")\r\n",
    "\r\n",
    "num1 = int(input(\"Enter First Number: \"))\r\n",
    "num2 = int(input(\"Enter Second Number: \"))\r\n",
    "\r\n",
    "ch = input(\"Enter any of these char for specific operation +,-,*,/: \")\r\n",
    "\r\n",
    "result = 0\r\n",
    "if ch == '+':\r\n",
    "    result = num1 + num2\r\n",
    "elif ch == '-':\r\n",
    "    result = num1 - num2\r\n",
    "elif ch == '*':\r\n",
    "    result = num1 * num2\r\n",
    "elif ch == '/':\r\n",
    "    result = num1 / num2\r\n",
    "else:\r\n",
    "    print(\"Input character is not recognized!\")\r\n",
    "\r\n",
    "print(num1, ch , num2, \":\", result)\r\n",
    "procedure_1(num1, num2)"
   ],
   "outputs": [
    {
     "output_type": "stream",
     "name": "stdout",
     "text": [
      "2 + 2 : 4\n",
      "Enter which operation would you like to perform?\n"
     ]
    }
   ],
   "metadata": {}
  }
 ],
 "metadata": {
  "orig_nbformat": 4,
  "language_info": {
   "name": "python",
   "version": "3.9.0",
   "mimetype": "text/x-python",
   "codemirror_mode": {
    "name": "ipython",
    "version": 3
   },
   "pygments_lexer": "ipython3",
   "nbconvert_exporter": "python",
   "file_extension": ".py"
  },
  "kernelspec": {
   "name": "python3",
   "display_name": "Python 3.9.0 64-bit"
  },
  "interpreter": {
   "hash": "08df78cca0249cc6f2e7febd3cd489c2ee40c1cbfae9840126cdf94687776c41"
  }
 },
 "nbformat": 4,
 "nbformat_minor": 2
}