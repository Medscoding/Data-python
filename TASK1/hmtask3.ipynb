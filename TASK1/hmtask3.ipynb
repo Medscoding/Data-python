{
 "cells": [
  {
   "cell_type": "markdown",
   "source": [
    "Task1\r\n",
    "Write a program that allows you to enter 4 numbers \r\n",
    "and stores them in a file called “Numbers”"
   ],
   "metadata": {}
  },
  {
   "cell_type": "code",
   "execution_count": null,
   "source": [
    "# List of data values to be outputted.\r\n",
    "aList = [3, 45, 83, 21]\r\n",
    "\r\n",
    "# Open the file for writing\r\n",
    "dataFile = open('Numbers.txt', 'w')\r\n",
    "\r\n",
    "# Loop through each item in the list\r\n",
    "# and write it to the output file.\r\n",
    "for eachitem in aList:\r\n",
    "    dataFile.write(str(eachitem)+'\\n')\r\n",
    "\r\n",
    "# Close the output file\r\n",
    "dataFile.close()"
   ],
   "outputs": [],
   "metadata": {}
  },
  {
   "cell_type": "markdown",
   "source": [
    "Task2\r\n",
    "Write a program to ask \r\n",
    "a student for their \r\n",
    "percentage mark and \r\n",
    "convert this to a grade.\r\n",
    "\r\n",
    "The conversion will be \r\n",
    "done in a function \r\n",
    "called mark_grade"
   ],
   "metadata": {}
  },
  {
   "cell_type": "code",
   "execution_count": 13,
   "source": [
    "def mark_grade(student_mark):\r\n",
    "    student_mark = int(input(\"enter you mark to see your grade\"))\r\n",
    "    ''' p_a = 100\r\n",
    "    p_b = 80\r\n",
    "    p_c = 60\r\n",
    "    p_d = 40'''\r\n",
    "    if student_mark <= 100:\r\n",
    "        print(\"your grade is:\" + \"A\")\r\n",
    "    elif student_mark <= 80:\r\n",
    "        print(\"your grade is:\", + \"B\")\r\n",
    "    elif student_mark <= 60:\r\n",
    "        print(\"your grade is:\", + \"C\")\r\n",
    "    elif student_mark == 40:\r\n",
    "        print(\"your grade is:\", + \"D\")\r\n",
    "    else:\r\n",
    "        print(\"you fail study more, you can do it\")"
   ],
   "outputs": [],
   "metadata": {}
  },
  {
   "cell_type": "code",
   "execution_count": 14,
   "source": [
    "def mark_grade(scores):\r\n",
    "    scores = int(input(\"enter you mark to see your grade\"))\r\n",
    "    if scores >= 90 and scores <= 100:\r\n",
    "        return 'A'\r\n",
    "    elif scores >= 80 and scores <= 89:\r\n",
    "        return 'B'\r\n",
    "    elif scores >= 70 and scores <= 79:\r\n",
    "        return 'C'\r\n",
    "    elif scores >= 60 and scores <= 69:\r\n",
    "        return 'D'\r\n",
    "    elif scores >= 50 and scores <= 59:\r\n",
    "        return 'E'\r\n",
    "    else:\r\n",
    "        return 'F'"
   ],
   "outputs": [],
   "metadata": {}
  },
  {
   "cell_type": "markdown",
   "source": [
    "Task3\r\n",
    "Ask the user for their target grade and print this with their \r\n",
    "mark\r\n",
    "•If their target grade > exam grade display a suitable \r\n",
    "message\r\n",
    "•If their target grade = exam grade display a suitable \r\n",
    "message\r\n",
    "•If their target grade < exam grade display a suitable \r\n",
    "message"
   ],
   "metadata": {}
  },
  {
   "cell_type": "code",
   "execution_count": 15,
   "source": [
    "def mark_grade(target_grade, exam_grade):\r\n",
    "    target_grade = input(\"enter your target grade\")\r\n",
    "    mark_a = 100\r\n",
    "    mark_b = 80\r\n",
    "    mark_c = 60\r\n",
    "    mark_d = 40\r\n",
    "    exam_grade = (mark_a + mark_b + mark_c + mark_d)\r\n",
    "    print(target_grade + exam_grade)\r\n",
    "    if target_grade > exam_grade:\r\n",
    "        print(\"Excellent keep up the work\")\r\n",
    "    elif target_grade == exam_grade:\r\n",
    "        print(\"Good job, keep going\")\r\n",
    "    elif target_grade < exam_grade:\r\n",
    "        print(\"Keep going, you can do it\")\r\n",
    "    else:\r\n",
    "        print(\"Do not give up, you can do it\")\r\n"
   ],
   "outputs": [],
   "metadata": {}
  }
 ],
 "metadata": {
  "orig_nbformat": 4,
  "language_info": {
   "name": "python",
   "version": "3.9.0",
   "mimetype": "text/x-python",
   "codemirror_mode": {
    "name": "ipython",
    "version": 3
   },
   "pygments_lexer": "ipython3",
   "nbconvert_exporter": "python",
   "file_extension": ".py"
  },
  "kernelspec": {
   "name": "python3",
   "display_name": "Python 3.9.0 64-bit"
  },
  "interpreter": {
   "hash": "08df78cca0249cc6f2e7febd3cd489c2ee40c1cbfae9840126cdf94687776c41"
  }
 },
 "nbformat": 4,
 "nbformat_minor": 2
}